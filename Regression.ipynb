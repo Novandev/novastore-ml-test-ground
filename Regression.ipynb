{
 "cells": [
  {
   "cell_type": "code",
   "execution_count": 370,
   "metadata": {},
   "outputs": [
    {
     "name": "stdout",
     "output_type": "stream",
     "text": [
      "Regression.ipynb  titanic.csv\n",
      ".. _boston_dataset:\n",
      "\n",
      "Boston house prices dataset\n",
      "---------------------------\n",
      "\n",
      "**Data Set Characteristics:**  \n",
      "\n",
      "    :Number of Instances: 506 \n",
      "\n",
      "    :Number of Attributes: 13 numeric/categorical predictive. Median Value (attribute 14) is usually the target.\n",
      "\n",
      "    :Attribute Information (in order):\n",
      "        - CRIM     per capita crime rate by town\n",
      "        - ZN       proportion of residential land zoned for lots over 25,000 sq.ft.\n",
      "        - INDUS    proportion of non-retail business acres per town\n",
      "        - CHAS     Charles River dummy variable (= 1 if tract bounds river; 0 otherwise)\n",
      "        - NOX      nitric oxides concentration (parts per 10 million)\n",
      "        - RM       average number of rooms per dwelling\n",
      "        - AGE      proportion of owner-occupied units built prior to 1940\n",
      "        - DIS      weighted distances to five Boston employment centres\n",
      "        - RAD      index of accessibility to radial highways\n",
      "        - TAX      full-value property-tax rate per $10,000\n",
      "        - PTRATIO  pupil-teacher ratio by town\n",
      "        - B        1000(Bk - 0.63)^2 where Bk is the proportion of blacks by town\n",
      "        - LSTAT    % lower status of the population\n",
      "        - MEDV     Median value of owner-occupied homes in $1000's\n",
      "\n",
      "    :Missing Attribute Values: None\n",
      "\n",
      "    :Creator: Harrison, D. and Rubinfeld, D.L.\n",
      "\n",
      "This is a copy of UCI ML housing dataset.\n",
      "https://archive.ics.uci.edu/ml/machine-learning-databases/housing/\n",
      "\n",
      "\n",
      "This dataset was taken from the StatLib library which is maintained at Carnegie Mellon University.\n",
      "\n",
      "The Boston house-price data of Harrison, D. and Rubinfeld, D.L. 'Hedonic\n",
      "prices and the demand for clean air', J. Environ. Economics & Management,\n",
      "vol.5, 81-102, 1978.   Used in Belsley, Kuh & Welsch, 'Regression diagnostics\n",
      "...', Wiley, 1980.   N.B. Various transformations are used in the table on\n",
      "pages 244-261 of the latter.\n",
      "\n",
      "The Boston house-price data has been used in many machine learning papers that address regression\n",
      "problems.   \n",
      "     \n",
      ".. topic:: References\n",
      "\n",
      "   - Belsley, Kuh & Welsch, 'Regression diagnostics: Identifying Influential Data and Sources of Collinearity', Wiley, 1980. 244-261.\n",
      "   - Quinlan,R. (1993). Combining Instance-Based and Model-Based Learning. In Proceedings on the Tenth International Conference of Machine Learning, 236-243, University of Massachusetts, Amherst. Morgan Kaufmann.\n",
      "\n"
     ]
    }
   ],
   "source": [
    "import numpy as np\n",
    "import pandas as pd\n",
    "import matplotlib as plt\n",
    "\n",
    "from sklearn.metrics import mean_absolute_error, mean_squared_error,r2_score,mean_absolute_error\n",
    "from sklearn.preprocessing import OneHotEncoder\n",
    "from sklearn.preprocessing import LabelEncoder\n",
    "\n",
    "#regressions\n",
    "from sklearn.linear_model import LinearRegression\n",
    "from sklearn.preprocessing import PolynomialFeatures\n",
    "from sklearn.neighbors import KNeighborsRegressor\n",
    "# Scaling the data\n",
    "from sklearn.preprocessing import StandardScaler\n",
    "titanic_df = pd.read_csv(\"titanic.csv\", delimiter='\\t')\n",
    "%ls\n",
    "titanic_df = titanic_df.drop(['PassengerId','Name','Cabin', 'Ticket','Embarked'], axis=1)\n",
    "titanic_df.dropna(how='any',axis=0,inplace=True)\n",
    "# After dropping the ones with na values there are only 125 left,\n",
    "# I'd like the cleanest dataset possible for the highest accuraccey \n",
    "titanic_df = titanic_df[titanic_df.Fare < 70]\n",
    "from sklearn.datasets import load_boston\n",
    "boston_set = load_boston()\n",
    "print(boston_set.DESCR)"
   ]
  },
  {
   "cell_type": "code",
   "execution_count": 344,
   "metadata": {},
   "outputs": [
    {
     "data": {
      "text/plain": [
       "count    113.000000\n",
       "mean      20.745539\n",
       "std       15.923724\n",
       "min        6.750000\n",
       "25%        8.050000\n",
       "50%       14.454200\n",
       "75%       27.900000\n",
       "max       66.600000\n",
       "Name: Fare, dtype: float64"
      ]
     },
     "execution_count": 344,
     "metadata": {},
     "output_type": "execute_result"
    }
   ],
   "source": [
    "# Data cleaning for regression \n",
    "\n",
    "titanic_df.Fare.describe()"
   ]
  },
  {
   "cell_type": "code",
   "execution_count": 354,
   "metadata": {},
   "outputs": [
    {
     "name": "stderr",
     "output_type": "stream",
     "text": [
      "/Users/novan/anaconda3/envs/novastore-test/lib/python3.5/site-packages/ipykernel_launcher.py:13: SettingWithCopyWarning: \n",
      "A value is trying to be set on a copy of a slice from a DataFrame.\n",
      "Try using .loc[row_indexer,col_indexer] = value instead\n",
      "\n",
      "See the caveats in the documentation: http://pandas.pydata.org/pandas-docs/stable/indexing.html#indexing-view-versus-copy\n",
      "  del sys.path[0]\n",
      "/Users/novan/anaconda3/envs/novastore-test/lib/python3.5/site-packages/ipykernel_launcher.py:15: SettingWithCopyWarning: \n",
      "A value is trying to be set on a copy of a slice from a DataFrame.\n",
      "Try using .loc[row_indexer,col_indexer] = value instead\n",
      "\n",
      "See the caveats in the documentation: http://pandas.pydata.org/pandas-docs/stable/indexing.html#indexing-view-versus-copy\n",
      "  from ipykernel import kernelapp as app\n"
     ]
    }
   ],
   "source": [
    "# Making test and training sets\n",
    "fare_y = titanic_df['Fare']\n",
    "fare_x = titanic_df.drop(['Fare'], axis=1)\n",
    "y_train = fare_y[:99]\n",
    "x_train = fare_x[:99]\n",
    "y_test = fare_y[100:]\n",
    "x_test =fare_x[100:]\n",
    "# print(x_test)\n",
    "\n",
    "# One-hot encoding for KNN\n",
    "\n",
    "label_encoder = LabelEncoder()\n",
    "x_train['Sex'] = label_encoder.fit_transform(x_train['Sex'])\n",
    "# x_train['Embarked'] = label_encoder.fit_transform(x_train['Embarked'])\n",
    "x_test['Sex'] = label_encoder.fit_transform(x_test['Sex'])\n",
    "# x_test['Embarked'] = label_encoder.fit_transform(x_test['Embarked'])\n",
    "# x_train = StandardScaler().fit_transform(x_train)\n",
    "# x_test =StandardScaler().fit_transform(x_test)"
   ]
  },
  {
   "cell_type": "code",
   "execution_count": 372,
   "metadata": {},
   "outputs": [
    {
     "name": "stdout",
     "output_type": "stream",
     "text": [
      "Predicted fares: [10.1775   7.79834 11.75916 10.3375   9.08    29.33084 23.60916 20.81332\n",
      " 39.1075  20.76082 23.2325  25.67332 39.1075 ]\n",
      "Coefficient of determination: 0.07841192264241448\n",
      "Mean absolute error: 13.151863076923076\n",
      "Mean squared error: 344.92770265535376\n"
     ]
    }
   ],
   "source": [
    "# Data Cleaning now done, time to fit this model with KNN Regression\n",
    "reduced_x_train\n",
    "K = 5\n",
    "clf = KNeighborsRegressor(n_neighbors=K)\n",
    "clf.fit(x_train, y_train)\n",
    "predictions = clf.predict(x_test)\n",
    "print('Predicted fares: %s' % predictions)\n",
    "print('Coefficient of determination: %s' % r2_score(y_test, \n",
    "  predictions))\n",
    "print('Mean absolute error: %s' % mean_absolute_error(y_test, \n",
    "  predictions))\n",
    "print('Mean squared error: %s' % mean_squared_error(y_test,\n",
    "  predictions))"
   ]
  },
  {
   "cell_type": "code",
   "execution_count": 356,
   "metadata": {},
   "outputs": [
    {
     "name": "stdout",
     "output_type": "stream",
     "text": [
      "Predicted fares: [ 9.27722435  8.86412066 24.63999392 33.39297803  8.42921247 22.37198245\n",
      " 32.83032731 24.90197776 25.0002217  40.82897088  9.26255441 17.08720202\n",
      " 44.78120471]\n",
      "Coefficient of determination: 0.6572210094406798\n",
      "Mean absolute error: 8.861280755789995\n",
      "Mean squared error: 128.2937275742029\n"
     ]
    }
   ],
   "source": [
    "# Multiple regression section\n",
    "regressor = LinearRegression()\n",
    "regressor.fit(x_train, y_train)\n",
    "predictions = regressor.predict(x_test)\n",
    "print('Predicted fares: %s' % predictions)\n",
    "print('Coefficient of determination: %s' % r2_score(y_test, \n",
    "  predictions))\n",
    "print('Mean absolute error: %s' % mean_absolute_error(y_test, \n",
    "  predictions))\n",
    "print('Mean squared error: %s' % mean_squared_error(y_test,\n",
    "  predictions))\n",
    "\n",
    "\n"
   ]
  },
  {
   "cell_type": "code",
   "execution_count": 357,
   "metadata": {},
   "outputs": [
    {
     "name": "stdout",
     "output_type": "stream",
     "text": [
      "Predicted fares: [13.40459  7.92291 12.81832 23.36833  7.99919 26.29458 23.42666 19.\n",
      " 15.5     46.16416  7.295   20.21624 60.10752]\n",
      "Coefficient of determination: 0.8443235375599428\n",
      "Mean absolute error: 5.102247692307691\n",
      "Mean squared error: 58.26586287978459\n",
      "Predicted fares: [13.40459  7.92291 12.81832 23.36833  7.99919 26.29458 23.42666 19.\n",
      " 15.5     46.16416  7.295   20.21624 60.10752]\n",
      "Coefficient of determination: 0.8048254450330963\n",
      "Mean absolute error: 5.975006283107916\n",
      "Mean squared error: 73.04902538945704\n"
     ]
    }
   ],
   "source": [
    "# Random forest regression!\n",
    "from sklearn.ensemble import RandomForestRegressor,GradientBoostingRegressor\n",
    "from sklearn.ensemble import AdaBoostRegressor\n",
    "from sklearn.datasets import make_regression\n",
    "\n",
    "\n",
    "randomForestRegression = RandomForestRegressor(n_estimators=10, random_state=11)\n",
    "randomForestRegression.fit(x_train,y_train)\n",
    "RFpredictions = randomForestRegression.predict(x_test)\n",
    "\n",
    "print('Predicted fares: %s' % RFpredictions)\n",
    "print('Coefficient of determination: %s' % r2_score(y_test, \n",
    "  RFpredictions))\n",
    "print('Mean absolute error: %s' % mean_absolute_error(y_test, \n",
    "  RFpredictions))\n",
    "print('Mean squared error: %s' % mean_squared_error(y_test,\n",
    "  RFpredictions))\n",
    "\n",
    "AdaBoostClassifierRegression = AdaBoostRegressor(n_estimators=50, random_state=11)\n",
    "AdaBoostClassifierRegression.fit(x_train,y_train)\n",
    "AdaBoostClassifierPredictions = AdaBoostClassifierRegression.predict(x_test)\n",
    "\n",
    "print('Predicted fares: %s' % RFpredictions)\n",
    "print('Coefficient of determination: %s' % r2_score(y_test, \n",
    "  AdaBoostClassifierPredictions))\n",
    "print('Mean absolute error: %s' % mean_absolute_error(y_test, \n",
    "  AdaBoostClassifierPredictions))\n",
    "print('Mean squared error: %s' % mean_squared_error(y_test,\n",
    "  AdaBoostClassifierPredictions))"
   ]
  },
  {
   "cell_type": "code",
   "execution_count": 359,
   "metadata": {},
   "outputs": [
    {
     "name": "stdout",
     "output_type": "stream",
     "text": [
      "Predicted fares: [16.10669416 15.33759592 14.58758274 20.64548967 15.60553809 25.27279168\n",
      " 27.67796789 18.99670944 20.65013196 14.60666779 22.04314279 28.97912191\n",
      " 24.92967405]\n",
      "Coefficient of determination: -0.03351813623714839\n",
      "Mean absolute error: 13.666404746608901\n",
      "Mean squared error: 386.82036491516067\n"
     ]
    }
   ],
   "source": [
    "# starting PCA for the purpose of getting some what of a linear relationship\n",
    "\n",
    "from sklearn.decomposition import PCA\n",
    "\n",
    "pca = PCA(n_components=2)\n",
    "reduced_x_train = pca.fit_transform(x_train)\n",
    "reduced_x_test =pca.fit_transform(x_test)\n",
    "regressor = LinearRegression()\n",
    "regressor.fit(reduced_x_train, y_train)\n",
    "predictions = regressor.predict(reduced_x_test)\n",
    "print('Predicted fares: %s' % predictions)\n",
    "print('Coefficient of determination: %s' % r2_score(y_test, \n",
    "  predictions))\n",
    "print('Mean absolute error: %s' % mean_absolute_error(y_test, \n",
    "  predictions))\n",
    "print('Mean squared error: %s' % mean_squared_error(y_test,\n",
    "  predictions))"
   ]
  },
  {
   "cell_type": "code",
   "execution_count": 360,
   "metadata": {},
   "outputs": [
    {
     "name": "stdout",
     "output_type": "stream",
     "text": [
      "Predicted fares: [ 9.91568844  8.80679484 24.26242746 32.85454969  8.87962683 22.16031454\n",
      " 32.30034508 24.67094634 24.82414092 40.82695368  9.42808397 16.89577731\n",
      " 44.15830398]\n",
      "Coefficient of determination: 0.6581093817040364\n",
      "Mean absolute error: 8.845056339845119\n",
      "Mean squared error: 127.96123173204647\n"
     ]
    }
   ],
   "source": [
    "# lasso regression\n",
    "from sklearn import linear_model\n",
    "lasso_regression = linear_model.Lasso(alpha=0.1)\n",
    "lasso_regression.fit(x_train,y_train)\n",
    "predictions = lasso_regression.predict(x_test)\n",
    "print('Predicted fares: %s' % predictions)\n",
    "print('Coefficient of determination: %s' % r2_score(y_test, \n",
    "  predictions))\n",
    "print('Mean absolute error: %s' % mean_absolute_error(y_test, \n",
    "  predictions))\n",
    "print('Mean squared error: %s' % mean_squared_error(y_test,\n",
    "  predictions))"
   ]
  },
  {
   "cell_type": "code",
   "execution_count": 361,
   "metadata": {},
   "outputs": [
    {
     "name": "stdout",
     "output_type": "stream",
     "text": [
      "Predicted fares: [10.89475522  9.33498551 23.27883561 31.58401252  9.56877335 22.40452321\n",
      " 31.59130123 24.27758886 24.65212133 38.78245543 10.85392274 17.77229529\n",
      " 42.40888281]\n",
      "Coefficient of determination: 0.629874907008726\n",
      "Mean absolute error: 9.237584209907578\n",
      "Mean squared error: 138.5286997056533\n"
     ]
    }
   ],
   "source": [
    "# Eleastic net regression\n",
    "\n",
    "ElasticNet_regression = linear_model.ElasticNet(alpha=0.1)\n",
    "ElasticNet_regression.fit(x_train,y_train)\n",
    "predictions = ElasticNet_regression.predict(x_test)\n",
    "print('Predicted fares: %s' % predictions)\n",
    "print('Coefficient of determination: %s' % r2_score(y_test, \n",
    "  predictions))\n",
    "print('Mean absolute error: %s' % mean_absolute_error(y_test, \n",
    "  predictions))\n",
    "print('Mean squared error: %s' % mean_squared_error(y_test,\n",
    "  predictions))"
   ]
  },
  {
   "cell_type": "code",
   "execution_count": 374,
   "metadata": {},
   "outputs": [
    {
     "name": "stdout",
     "output_type": "stream",
     "text": [
      "Predicted fares: [ 9.67612105  8.15832654 15.045221   20.57470217  7.14231674 27.8068879\n",
      " 25.06196131 25.99946084 12.36950312 53.10002039  7.2501971  26.85509266\n",
      " 61.97925422]\n",
      "Coefficient of determination: 0.8224951969902037\n",
      "Mean absolute error: 5.836326574956143\n",
      "MSE: 66.4357\n"
     ]
    }
   ],
   "source": [
    "params = {'n_estimators': 1500, 'max_depth': 20, 'min_samples_split': 2,\n",
    "          'learning_rate': 0.01, 'loss': 'ls'}\n",
    "clf = GradientBoostingRegressor(**params)\n",
    "\n",
    "clf.fit(x_train, y_train)\n",
    "predictions = clf.predict(x_test)\n",
    "print('Predicted fares: %s' % predictions)\n",
    "print('Coefficient of determination: %s' % r2_score(y_test, \n",
    "  predictions))\n",
    "mse = mean_squared_error(y_test,predictions )\n",
    "print('Mean absolute error: %s' % mean_absolute_error(y_test, \n",
    "  predictions))\n",
    "print(\"MSE: %.4f\" % mse)"
   ]
  }
 ],
 "metadata": {
  "kernelspec": {
   "display_name": "Python 3",
   "language": "python",
   "name": "python3"
  },
  "language_info": {
   "codemirror_mode": {
    "name": "ipython",
    "version": 3
   },
   "file_extension": ".py",
   "mimetype": "text/x-python",
   "name": "python",
   "nbconvert_exporter": "python",
   "pygments_lexer": "ipython3",
   "version": "3.5.6"
  }
 },
 "nbformat": 4,
 "nbformat_minor": 2
}
