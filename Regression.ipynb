{
 "cells": [
  {
   "cell_type": "code",
   "execution_count": 423,
   "metadata": {},
   "outputs": [
    {
     "name": "stdout",
     "output_type": "stream",
     "text": [
      "Regression.ipynb  titanic.csv\r\n"
     ]
    }
   ],
   "source": [
    "import numpy as np\n",
    "import pandas as pd\n",
    "import matplotlib as plt\n",
    "\n",
    "from sklearn.metrics import mean_absolute_error, mean_squared_error,r2_score,mean_absolute_error\n",
    "from sklearn.preprocessing import OneHotEncoder\n",
    "from sklearn.preprocessing import LabelEncoder\n",
    "\n",
    "#regressions\n",
    "from sklearn.linear_model import LinearRegression\n",
    "from sklearn.preprocessing import PolynomialFeatures\n",
    "from sklearn.neighbors import KNeighborsRegressor\n",
    "# Scaling the data\n",
    "from sklearn.preprocessing import StandardScaler\n",
    "\n",
    "from sklearn.datasets import load_boston\n",
    "boston_set = load_boston()\n",
    "# print(boston_set.DESCR)\n",
    "boston_df = pd.DataFrame(boston.data)\n",
    "# boston_df"
   ]
  },
  {
   "cell_type": "code",
   "execution_count": 424,
   "metadata": {},
   "outputs": [],
   "source": [
    "# Data cleaning for regression \n",
    "boston_df.columns = boston_set.feature_names\n",
    "boston_df['PRICE'] = boston_set.target"
   ]
  },
  {
   "cell_type": "code",
   "execution_count": 425,
   "metadata": {},
   "outputs": [],
   "source": [
    "# Making test and training sets\n",
    "y_train = boston_df['PRICE'][:450]\n",
    "x_train = boston_df[:450]\n",
    "y_test = boston_df['PRICE'][450:]\n",
    "x_test =boston_df[450:]\n",
    "# print(x_test)\n",
    "\n",
    "# Scaling data\n",
    "# x_train = StandardScaler().fit_transform(x_train)\n",
    "# x_test =StandardScaler().fit_transform(x_test)"
   ]
  },
  {
   "cell_type": "code",
   "execution_count": 426,
   "metadata": {},
   "outputs": [
    {
     "name": "stdout",
     "output_type": "stream",
     "text": [
      "Predicted House Price: [ 9.92 20.   16.92 16.64  9.5  11.06  9.92  9.92 15.06 19.18 13.94 19.18\n",
      " 19.18 19.18 20.8  18.48 11.88 19.12 20.16 20.8  19.18 18.34 20.8  23.08\n",
      " 20.   15.2  14.78 13.76 15.   20.12 20.8  20.8  20.8  23.04 23.08 23.04\n",
      " 20.8  23.04 16.3  14.22 15.2  13.52 19.18 21.08 21.08 21.66 22.64 23.08\n",
      " 23.46 22.76 21.34 21.48 22.7  23.7  23.7  21.78]\n",
      "Coefficient of determination: 0.3892144865776592\n",
      "Mean absolute error: 2.5424999999999995\n",
      "Mean squared error: 11.159207142857142\n"
     ]
    }
   ],
   "source": [
    "# Data Cleaning now done, time to fit this model with KNN Regression\n",
    "reduced_x_train\n",
    "K = 5\n",
    "clf = KNeighborsRegressor(n_neighbors=K)\n",
    "clf.fit(x_train, y_train)\n",
    "predictions = clf.predict(x_test)\n",
    "print('Predicted House Price: %s' % predictions)\n",
    "print('Coefficient of determination: %s' % r2_score(y_test, \n",
    "  predictions))\n",
    "print('Mean absolute error: %s' % mean_absolute_error(y_test, \n",
    "  predictions))\n",
    "print('Mean squared error: %s' % mean_squared_error(y_test,\n",
    "  predictions))"
   ]
  },
  {
   "cell_type": "code",
   "execution_count": 427,
   "metadata": {},
   "outputs": [
    {
     "name": "stdout",
     "output_type": "stream",
     "text": [
      "Predicted House Price: [13.4 15.2 16.1 17.8 14.9 14.1 12.7 13.5 14.9 20.  16.4 17.7 19.5 20.2\n",
      " 21.4 19.9 19.  19.1 19.1 20.1 19.9 19.6 23.2 29.8 13.8 13.3 16.7 12.\n",
      " 14.6 21.4 23.  23.7 25.  21.8 20.6 21.2 19.1 20.6 15.2  7.   8.1 13.6\n",
      " 20.1 21.8 24.5 23.1 19.7 18.3 21.2 17.5 16.8 22.4 20.6 23.9 22.  11.9]\n",
      "Coefficient of determination: 1.0\n",
      "Mean absolute error: 2.1173539112494058e-14\n",
      "Mean squared error: 8.48772073612172e-28\n"
     ]
    }
   ],
   "source": [
    "# Multiple regression section\n",
    "regressor = LinearRegression()\n",
    "regressor.fit(x_train, y_train)\n",
    "predictions = regressor.predict(x_test)\n",
    "print('Predicted House Price: %s' % predictions)\n",
    "print('Coefficient of determination: %s' % r2_score(y_test, \n",
    "  predictions))\n",
    "print('Mean absolute error: %s' % mean_absolute_error(y_test, \n",
    "  predictions))\n",
    "print('Mean squared error: %s' % mean_squared_error(y_test,\n",
    "  predictions))\n",
    "\n",
    "\n"
   ]
  },
  {
   "cell_type": "code",
   "execution_count": 428,
   "metadata": {},
   "outputs": [
    {
     "name": "stdout",
     "output_type": "stream",
     "text": [
      "Predicted fares: [13.41 15.2  16.14 17.87 15.05 14.2  12.7  13.41 15.   19.97 16.4  17.86\n",
      " 19.48 20.13 21.4  19.88 18.88 19.08 19.08 20.05 19.89 19.59 23.21 29.88\n",
      " 13.82 13.23 16.63 11.83 14.42 21.42 23.01 23.75 24.99 21.7  20.61 21.16\n",
      " 19.08 20.61 15.16  7.34  8.42 13.61 20.04 21.7  24.48 23.11 19.68 18.4\n",
      " 21.14 17.54 16.51 22.33 20.59 23.89 21.99 11.79]\n",
      "Coefficient of determination: 0.9994610678112354\n",
      "Mean absolute error: 0.06392857142857157\n",
      "Mean squared error: 0.009846428571428641\n",
      "Predicted House Price: [13.41 15.2  16.14 17.87 15.05 14.2  12.7  13.41 15.   19.97 16.4  17.86\n",
      " 19.48 20.13 21.4  19.88 18.88 19.08 19.08 20.05 19.89 19.59 23.21 29.88\n",
      " 13.82 13.23 16.63 11.83 14.42 21.42 23.01 23.75 24.99 21.7  20.61 21.16\n",
      " 19.08 20.61 15.16  7.34  8.42 13.61 20.04 21.7  24.48 23.11 19.68 18.4\n",
      " 21.14 17.54 16.51 22.33 20.59 23.89 21.99 11.79]\n",
      "Coefficient of determination: 0.983432669831703\n",
      "Mean absolute error: 0.43970233336653386\n",
      "Mean squared error: 0.3026893485345244\n"
     ]
    }
   ],
   "source": [
    "# Random forest regression!\n",
    "from sklearn.ensemble import RandomForestRegressor,GradientBoostingRegressor\n",
    "from sklearn.ensemble import AdaBoostRegressor\n",
    "from sklearn.datasets import make_regression\n",
    "\n",
    "\n",
    "randomForestRegression = RandomForestRegressor(n_estimators=10, random_state=11)\n",
    "randomForestRegression.fit(x_train,y_train)\n",
    "RFpredictions = randomForestRegression.predict(x_test)\n",
    "\n",
    "print('Predicted fares: %s' % RFpredictions)\n",
    "print('Coefficient of determination: %s' % r2_score(y_test, \n",
    "  RFpredictions))\n",
    "print('Mean absolute error: %s' % mean_absolute_error(y_test, \n",
    "  RFpredictions))\n",
    "print('Mean squared error: %s' % mean_squared_error(y_test,\n",
    "  RFpredictions))\n",
    "\n",
    "AdaBoostRegression = AdaBoostRegressor(n_estimators=50, random_state=11)\n",
    "AdaBoostRegression.fit(x_train,y_train)\n",
    "AdaBoostRegressionPredictions = AdaBoostRegression.predict(x_test)\n",
    "\n",
    "print('Predicted House Price: %s' % RFpredictions)\n",
    "print('Coefficient of determination: %s' % r2_score(y_test, \n",
    "  AdaBoostRegressionPredictions))\n",
    "print('Mean absolute error: %s' % mean_absolute_error(y_test, \n",
    "  AdaBoostRegressionPredictions))\n",
    "print('Mean squared error: %s' % mean_squared_error(y_test,\n",
    "  AdaBoostRegressionPredictions))"
   ]
  },
  {
   "cell_type": "code",
   "execution_count": null,
   "metadata": {},
   "outputs": [],
   "source": []
  },
  {
   "cell_type": "code",
   "execution_count": 430,
   "metadata": {},
   "outputs": [
    {
     "name": "stdout",
     "output_type": "stream",
     "text": [
      "Predicted House Price: [13.40097839 15.20183971 16.10087952 17.79844886 14.89897021 14.10048982\n",
      " 12.70203917 13.50087046 14.9014709  19.99561374 16.39924291 17.69873328\n",
      " 19.4963031  20.19530899 21.39368353 19.895163   18.99346184 19.09623669\n",
      " 19.09658938 20.09547587 19.89575161 19.59615044 23.1911686  29.78189304\n",
      " 13.8037444  13.30396456 16.70015701 12.00619689 14.60289683 21.39355564\n",
      " 22.99147759 23.69047641 24.98870489 21.79309456 20.59454005 21.1938813\n",
      " 19.09681484 20.59470476 15.20078322  7.01160802  8.10985015 13.60294227\n",
      " 20.09404455 21.801879   24.49815646 23.10005267 19.70477431 18.30670451\n",
      " 21.20270623 17.50779684 16.80877259 22.40475877 20.6072867  23.90273693\n",
      " 22.005324   11.91928154]\n",
      "Coefficient of determination: 0.9999978441264629\n",
      "Mean absolute error: 0.004913201280311951\n",
      "Mean squared error: 3.938835949155595e-05\n"
     ]
    }
   ],
   "source": [
    "# lasso regression\n",
    "from sklearn import linear_model\n",
    "lasso_regression = linear_model.Lasso(alpha=0.1)\n",
    "lasso_regression.fit(x_train,y_train)\n",
    "predictions = lasso_regression.predict(x_test)\n",
    "print('Predicted House Price: %s' % predictions)\n",
    "print('Coefficient of determination: %s' % r2_score(y_test, \n",
    "  predictions))\n",
    "print('Mean absolute error: %s' % mean_absolute_error(y_test, \n",
    "  predictions))\n",
    "print('Mean squared error: %s' % mean_squared_error(y_test,\n",
    "  predictions))"
   ]
  },
  {
   "cell_type": "code",
   "execution_count": 431,
   "metadata": {},
   "outputs": [
    {
     "name": "stdout",
     "output_type": "stream",
     "text": [
      "Predicted House Price: [13.39870209 15.20166272 16.10083611 17.79825143 14.89664792 14.09848752\n",
      " 12.69986577 13.4986082  14.90079567 19.99542144 16.39837691 17.69863806\n",
      " 19.49613928 20.1950862  21.39341149 19.89458872 18.99100111 19.09568868\n",
      " 19.09627368 20.09527787 19.89556501 19.59597119 23.19077213 29.7810047\n",
      " 13.80363034 13.30356996 16.7001484  12.00616614 14.60290543 21.39319936\n",
      " 22.99111441 23.69004961 24.98821775 21.79277505 20.59415124 21.19356929\n",
      " 19.09664763 20.59442445 15.20084107  7.01181635  8.10983691 13.60306036\n",
      " 20.09383452 21.80165774 24.49778141 23.09973497 19.70467267 18.30668262\n",
      " 21.20251915 17.50781351 16.80883613 22.40450444 20.60716536 23.90242762\n",
      " 22.00510152 11.91965576]\n",
      "Coefficient of determination: 0.9999976750343005\n",
      "Mean absolute error: 0.005125480238124964\n",
      "Mean squared error: 4.24777164331598e-05\n"
     ]
    }
   ],
   "source": [
    "# Eleastic net regression\n",
    "\n",
    "ElasticNet_regression = linear_model.ElasticNet(alpha=0.1)\n",
    "ElasticNet_regression.fit(x_train,y_train)\n",
    "predictions = ElasticNet_regression.predict(x_test)\n",
    "print('Predicted House Price: %s' % predictions)\n",
    "print('Coefficient of determination: %s' % r2_score(y_test, \n",
    "  predictions))\n",
    "print('Mean absolute error: %s' % mean_absolute_error(y_test, \n",
    "  predictions))\n",
    "print('Mean squared error: %s' % mean_squared_error(y_test,\n",
    "  predictions))"
   ]
  },
  {
   "cell_type": "code",
   "execution_count": 434,
   "metadata": {},
   "outputs": [
    {
     "name": "stdout",
     "output_type": "stream",
     "text": [
      "Predicted House Price: [13.40686013 15.14335174 16.17221173 17.88737488 14.93187016 14.08381841\n",
      " 12.72977471 13.41462075 15.09060065 20.00015003 16.2474135  17.80021332\n",
      " 19.5001745  20.1632525  21.40007233 19.90015641 19.07719373 19.08514766\n",
      " 19.08166481 20.14692046 19.90015641 19.60017239 23.19991939 29.8721557\n",
      " 13.80038294 13.30046129 16.65773978 11.77679882 14.51666499 21.40007233\n",
      " 22.99993881 23.64318574 24.99982969 21.70003893 20.65809443 21.20007634\n",
      " 19.07727987 20.65809443 15.23879037  7.14951783  8.31897356 13.60056705\n",
      " 20.11252301 21.70003893 24.45022309 23.09993237 19.61621076 18.26156818\n",
      " 21.16708657 17.53485908 17.04038952 22.42754208 20.60011215 23.96340711\n",
      " 22.00000137 11.73826003]\n",
      "Coefficient of determination: 0.9996349631845604\n",
      "Mean absolute error: 0.05349887668849667\n",
      "MSE: 0.0067\n"
     ]
    }
   ],
   "source": [
    "# params = {'n_estimators': 1500, 'max_depth': 20, 'min_samples_split': 2,\n",
    "#           'learning_rate': 0.01, 'loss': 'ls'}\n",
    "clf = GradientBoostingRegressor(n_estimators=1000,max_depth=20, min_samples_split=2,learning_rate=0.01,loss='ls')\n",
    "\n",
    "clf.fit(x_train, y_train)\n",
    "predictions = clf.predict(x_test)\n",
    "print('Predicted House Price: %s' % predictions)\n",
    "print('Coefficient of determination: %s' % r2_score(y_test, \n",
    "  predictions))\n",
    "mse = mean_squared_error(y_test,predictions )\n",
    "print('Mean absolute error: %s' % mean_absolute_error(y_test, \n",
    "  predictions))\n",
    "print(\"MSE: %.4f\" % mse)"
   ]
  },
  {
   "cell_type": "code",
   "execution_count": null,
   "metadata": {},
   "outputs": [],
   "source": []
  }
 ],
 "metadata": {
  "kernelspec": {
   "display_name": "Python 3",
   "language": "python",
   "name": "python3"
  },
  "language_info": {
   "codemirror_mode": {
    "name": "ipython",
    "version": 3
   },
   "file_extension": ".py",
   "mimetype": "text/x-python",
   "name": "python",
   "nbconvert_exporter": "python",
   "pygments_lexer": "ipython3",
   "version": "3.5.6"
  }
 },
 "nbformat": 4,
 "nbformat_minor": 2
}
