{
 "cells": [
  {
   "cell_type": "code",
   "execution_count": 195,
   "metadata": {},
   "outputs": [
    {
     "name": "stdout",
     "output_type": "stream",
     "text": [
      "Regression.ipynb  titanic.csv\n",
      "     Survived  Pclass     Sex   Age  SibSp  Parch\n",
      "127         1       3    male  24.0      0      0\n",
      "129         0       3    male  45.0      0      0\n",
      "130         0       3    male  33.0      0      0\n",
      "131         0       3    male  20.0      0      0\n",
      "132         0       3  female  47.0      1      0\n",
      "133         1       2  female  29.0      1      0\n",
      "134         0       2    male  25.0      0      0\n",
      "135         0       2    male  23.0      0      0\n",
      "136         1       1  female  19.0      0      2\n",
      "137         0       1    male  37.0      1      0\n",
      "138         0       3    male  16.0      0      0\n",
      "139         0       1    male  24.0      0      0\n",
      "141         1       3  female  22.0      0      0\n",
      "142         1       3  female  24.0      1      0\n",
      "143         0       3    male  19.0      0      0\n",
      "144         0       2    male  18.0      0      0\n",
      "145         0       2    male  19.0      1      1\n",
      "146         1       3    male  27.0      0      0\n",
      "147         0       3  female   9.0      2      2\n",
      "148         0       2    male  36.5      0      2\n",
      "149         0       2    male  42.0      0      0\n",
      "150         0       2    male  51.0      0      0\n",
      "151         1       1  female  22.0      1      0\n",
      "152         0       3    male  55.5      0      0\n",
      "153         0       3    male  40.5      0      2\n",
      "155         0       1    male  51.0      0      1\n"
     ]
    },
    {
     "name": "stderr",
     "output_type": "stream",
     "text": [
      "/Users/novan/anaconda3/envs/novastore-test/lib/python3.5/site-packages/ipykernel_launcher.py:33: SettingWithCopyWarning: \n",
      "A value is trying to be set on a copy of a slice from a DataFrame.\n",
      "Try using .loc[row_indexer,col_indexer] = value instead\n",
      "\n",
      "See the caveats in the documentation: http://pandas.pydata.org/pandas-docs/stable/indexing.html#indexing-view-versus-copy\n",
      "/Users/novan/anaconda3/envs/novastore-test/lib/python3.5/site-packages/ipykernel_launcher.py:35: SettingWithCopyWarning: \n",
      "A value is trying to be set on a copy of a slice from a DataFrame.\n",
      "Try using .loc[row_indexer,col_indexer] = value instead\n",
      "\n",
      "See the caveats in the documentation: http://pandas.pydata.org/pandas-docs/stable/indexing.html#indexing-view-versus-copy\n"
     ]
    }
   ],
   "source": [
    "import numpy as np\n",
    "import pandas as pd\n",
    "import matplotlib as plt\n",
    "\n",
    "from sklearn.metrics import mean_absolute_error, mean_squared_error,r2_score\n",
    "from sklearn.preprocessing import OneHotEncoder\n",
    "from sklearn.preprocessing import LabelEncoder\n",
    "\n",
    "#regressions\n",
    "from sklearn.linear_model import LinearRegression\n",
    "from sklearn.preprocessing import PolynomialFeatures\n",
    "from sklearn.neighbors import KNeighborsRegressor\n",
    "\n",
    "titanic_df = pd.read_csv(\"titanic.csv\", delimiter='\\t')\n",
    "%ls\n",
    "titanic_df = titanic_df.drop(['PassengerId','Name','Cabin', 'Ticket','Embarked'], axis=1)\n",
    "titanic_df = titanic_df.dropna(how='any')\n",
    "# After dropping the ones with na values there are only 125 left,\n",
    "# I'd like the cleanest dataset possible for the highest accuraccey \n",
    "titanic_df\n",
    "# Making test and training sets\n",
    "fare_y = titanic_df['Fare']\n",
    "fare_x = titanic_df.drop(['Fare'], axis=1)\n",
    "y_train = fare_y[:99]\n",
    "x_train = fare_x[:99]\n",
    "y_test = fare_y[100:]\n",
    "x_test =fare_x[100:]\n",
    "print(x_test)\n",
    "\n",
    "# One-hot encoding for KNN\n",
    "\n",
    "label_encoder = LabelEncoder()\n",
    "x_train['Sex'] = label_encoder.fit_transform(x_train['Sex'])\n",
    "# x_train['Embarked'] = label_encoder.fit_transform(x_train['Embarked'])\n",
    "x_test['Sex'] = label_encoder.fit_transform(x_test['Sex'])\n",
    "# x_test['Embarked'] = label_encoder.fit_transform(x_test['Embarked'])"
   ]
  },
  {
   "cell_type": "code",
   "execution_count": 196,
   "metadata": {},
   "outputs": [
    {
     "name": "stdout",
     "output_type": "stream",
     "text": [
      "Predicted fares: [ 7.99584 65.07584 26.34416  7.9825  65.07584 15.895   57.12     7.91584\n",
      " 22.865   44.04082 11.05918 66.76166  8.48584  9.06584  9.94834 11.75916\n",
      " 10.3375   9.08    32.6625  14.57416 36.11332 54.77584 59.62916 35.79\n",
      " 25.67332 54.77584]\n",
      "Coefficient of determination: -0.20796821960901402\n",
      "Mean absolute error: 14.87266\n",
      "Mean squared error: 493.17184354707695\n"
     ]
    }
   ],
   "source": [
    "# Data Cleaning now done, time to fit this model with KNN Regression\n",
    "\n",
    "K = 5\n",
    "clf = KNeighborsRegressor(n_neighbors=K)\n",
    "clf.fit(x_train, y_train)\n",
    "predictions = clf.predict(x_test)\n",
    "print('Predicted fares: %s' % predictions)\n",
    "print('Coefficient of determination: %s' % r2_score(y_test, \n",
    "  predictions))\n",
    "print('Mean absolute error: %s' % mean_absolute_error(y_test, \n",
    "  predictions))\n",
    "print('Mean squared error: %s' % mean_squared_error(y_test,\n",
    "  predictions))"
   ]
  },
  {
   "cell_type": "code",
   "execution_count": 197,
   "metadata": {},
   "outputs": [
    {
     "name": "stdout",
     "output_type": "stream",
     "text": [
      "Predicted fares: [ -6.50181402  -6.87996788  -1.34600344   4.6491247   -3.39199759\n",
      "  35.17995098  41.920592    42.84291941  92.15120003  82.86097218\n",
      "   6.49377951  81.95904153  -8.0662477   -2.09151632   5.1102884\n",
      "  45.14873793  61.42432551  -7.88530512  40.70866691  56.29659441\n",
      "  34.08080905  29.93033572  77.98538272 -11.72218676  14.87465378\n",
      "  79.34731404]\n",
      "Coefficient of determination: -0.20893035783794378\n",
      "Mean absolute error: 17.617693939132224\n",
      "Mean squared error: 493.56465146735655\n"
     ]
    }
   ],
   "source": [
    "# Multiple regression section\n",
    "regressor = LinearRegression()\n",
    "regressor.fit(x_train, y_train)\n",
    "predictions = regressor.predict(x_test)\n",
    "print('Predicted fares: %s' % predictions)\n",
    "print('Coefficient of determination: %s' % r2_score(y_test, \n",
    "  predictions))\n",
    "print('Mean absolute error: %s' % mean_absolute_error(y_test, \n",
    "  predictions))\n",
    "print('Mean squared error: %s' % mean_squared_error(y_test,\n",
    "  predictions))\n",
    "\n",
    "\n"
   ]
  },
  {
   "cell_type": "code",
   "execution_count": 204,
   "metadata": {},
   "outputs": [
    {
     "name": "stdout",
     "output_type": "stream",
     "text": [
      "Predicted fares: [ 17.82916      7.91706      8.41252      7.955552     9.66\n",
      "  26.40708     42.          42.         170.415       59.4629\n",
      "   9.89501    169.46831      7.96548667  10.14         9.0227\n",
      "  42.          38.55166     18.23582     31.76834     27.39458\n",
      "  26.35        14.7         70.94499      7.48208     20.31624\n",
      "  71.16418   ]\n",
      "Coefficient of determination: -2.023234975561302\n",
      "Mean absolute error: 15.641328025641029\n",
      "Mean squared error: 1234.2827751347272\n",
      "Predicted fares: [ 17.82916      7.91706      8.41252      7.955552     9.66\n",
      "  26.40708     42.          42.         170.415       59.4629\n",
      "   9.89501    169.46831      7.96548667  10.14         9.0227\n",
      "  42.          38.55166     18.23582     31.76834     27.39458\n",
      "  26.35        14.7         70.94499      7.48208     20.31624\n",
      "  71.16418   ]\n",
      "Coefficient of determination: -1.6719068549150218\n",
      "Mean absolute error: 18.494814250689487\n",
      "Mean squared error: 1090.8475968440791\n"
     ]
    }
   ],
   "source": [
    "# Random forest regression!\n",
    "from sklearn.ensemble import RandomForestRegressor\n",
    "from sklearn.ensemble import AdaBoostRegressor\n",
    "from sklearn.datasets import make_regression\n",
    "\n",
    "\n",
    "randomForestRegression = RandomForestRegressor(n_estimators=10, random_state=11)\n",
    "randomForestRegression.fit(x_train,y_train)\n",
    "RFpredictions = randomForestRegression.predict(x_test)\n",
    "\n",
    "print('Predicted fares: %s' % RFpredictions)\n",
    "print('Coefficient of determination: %s' % r2_score(y_test, \n",
    "  RFpredictions))\n",
    "print('Mean absolute error: %s' % mean_absolute_error(y_test, \n",
    "  RFpredictions))\n",
    "print('Mean squared error: %s' % mean_squared_error(y_test,\n",
    "  RFpredictions))\n",
    "\n",
    "AdaBoostClassifierRegression = AdaBoostRegressor(n_estimators=50, random_state=11)\n",
    "AdaBoostClassifierRegression.fit(x_train,y_train)\n",
    "AdaBoostClassifierPredictions = AdaBoostClassifierRegression.predict(x_test)\n",
    "\n",
    "print('Predicted fares: %s' % RFpredictions)\n",
    "print('Coefficient of determination: %s' % r2_score(y_test, \n",
    "  AdaBoostClassifierPredictions))\n",
    "print('Mean absolute error: %s' % mean_absolute_error(y_test, \n",
    "  AdaBoostClassifierPredictions))\n",
    "print('Mean squared error: %s' % mean_squared_error(y_test,\n",
    "  AdaBoostClassifierPredictions))"
   ]
  }
 ],
 "metadata": {
  "kernelspec": {
   "display_name": "Python 3",
   "language": "python",
   "name": "python3"
  },
  "language_info": {
   "codemirror_mode": {
    "name": "ipython",
    "version": 3
   },
   "file_extension": ".py",
   "mimetype": "text/x-python",
   "name": "python",
   "nbconvert_exporter": "python",
   "pygments_lexer": "ipython3",
   "version": "3.5.6"
  }
 },
 "nbformat": 4,
 "nbformat_minor": 2
}
